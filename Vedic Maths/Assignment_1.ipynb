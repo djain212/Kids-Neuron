{
 "cells": [
  {
   "cell_type": "markdown",
   "id": "4aa9cfa5",
   "metadata": {},
   "source": [
    "### 1.What is Vedic Maths? Please give examples of Vedic Maths."
   ]
  },
  {
   "cell_type": "markdown",
   "id": "13172fed",
   "metadata": {},
   "source": [
    "Vedic Mathematics is a collection of Techniques/Sutras to solve mathematical arithmetics in easy and faster way. It consists of 16 Sutras (Formulae) and 13 sub-sutras (Sub Formulae) which can be used for problems involved in arithmetic, algebra, geometry, calculus, conics."
   ]
  },
  {
   "cell_type": "markdown",
   "id": "0995e762",
   "metadata": {},
   "source": []
  },
  {
   "cell_type": "markdown",
   "id": "da934c70",
   "metadata": {},
   "source": [
    "### 2.What are the 16 sutras of Vedic Maths?"
   ]
  },
  {
   "cell_type": "markdown",
   "id": "88bbfc8f",
   "metadata": {},
   "source": [
    "The 16 Sutras of Vedic Math\n",
    "Ekadhikina Purvena\n",
    "(Corollary: Anurupyena)\n",
    "Meaning: By one more than the previous one\n",
    "Nikhilam Navatashcaramam Dashatah\n",
    "(Corollary: Sisyate Sesasamjnah)\n",
    "Meaning: All from 9 and the last from 10\n",
    "Urdhva-Tiryagbyham\n",
    "(Corollary: Adyamadyenantyamantyena)\n",
    "Meaning: Vertically and crosswise\n",
    "Paraavartya Yojayet\n",
    "(Corollary: Kevalaih Saptakam Gunyat)\n",
    "Meaning: Transpose and adjust\n",
    "Shunyam Saamyasamuccaye\n",
    "(Corollary: Vestanam)\n",
    "Meaning: When the sum is the same that sum is zero\n",
    "(Anurupye) Shunyamanyat\n",
    "(Corollary: Yavadunam Tavadunam)\n",
    "Meaning: If one is in ratio, the other is zero\n",
    "Sankalana-vyavakalanabhyam\n",
    "(Corollary: Yavadunam Tavadunikritya Varga Yojayet)\n",
    "Meaning: By addition and by subtraction\n",
    "Puranapuranabyham\n",
    "(Corollary: Antyayordashake'pi)\n",
    "Meaning: By the completion or non-completion\n",
    "Chalana-Kalanabyham\n",
    "(Corollary: Antyayoreva)\n",
    "Meaning: Differences and Similarities\n",
    "Yaavadunam\n",
    "(Corollary: Samuccayagunitah)\n",
    "Meaning: Whatever the extent of its deficiency\n",
    "Vyashtisamanstih\n",
    "(Corollary: Lopanasthapanabhyam)\n",
    "Meaning: Part and Whole\n",
    "Shesanyankena Charamena\n",
    "(Corollary: Vilokanam)\n",
    "Meaning: The remainders by the last digit\n",
    "Sopaantyadvayamantyam\n",
    "(Corollary: Gunitasamuccayah Samuccayagunitah)\n",
    "Meaning: The ultimate and twice the penultimate\n",
    "Ekanyunena Purvena\n",
    "(Corollary: Dhvajanka)\n",
    "Meaning: By one less than the previous one\n",
    "Gunitasamuchyah\n",
    "(Corollary: Dwandwa Yoga)\n",
    "Meaning: The product of the sum is equal to the sum of the product\n",
    "Gunakasamuchyah\n",
    "(Corollary: Adyam Antyam Madhyam)\n",
    "Meaning: The factors of the sum is equal to the sum of the factors"
   ]
  },
  {
   "cell_type": "markdown",
   "id": "ec532959",
   "metadata": {},
   "source": []
  },
  {
   "cell_type": "markdown",
   "id": "567a36f0",
   "metadata": {},
   "source": [
    "### 3. How many stages are there in Vedic Maths? "
   ]
  },
  {
   "cell_type": "markdown",
   "id": "beb49f9c",
   "metadata": {},
   "source": [
    "There are four books as per the four levels in the Junior Vedic Maths Program. Vedic Maths Books for Seniors for Grade 6 and above has speed building methods for faster calculation and develop mental maths ability."
   ]
  },
  {
   "cell_type": "markdown",
   "id": "099c6223",
   "metadata": {},
   "source": []
  },
  {
   "cell_type": "markdown",
   "id": "ee01d073",
   "metadata": {},
   "source": [
    "### 4. Who is the father of Vedic Maths?"
   ]
  },
  {
   "cell_type": "markdown",
   "id": "fc122732",
   "metadata": {},
   "source": [
    "Swami Bharati Krishna Tirtha Maharaj"
   ]
  },
  {
   "cell_type": "markdown",
   "id": "f45b583d",
   "metadata": {},
   "source": []
  },
  {
   "cell_type": "markdown",
   "id": "c511065a",
   "metadata": {},
   "source": [
    "### 5. Why is it called Vedic? "
   ]
  },
  {
   "cell_type": "markdown",
   "id": "2fdc4c72",
   "metadata": {},
   "source": [
    "Vedic maths is called vedic because the tricks and techniques were passed on to us by our ancestors."
   ]
  },
  {
   "cell_type": "markdown",
   "id": "5887757c",
   "metadata": {},
   "source": []
  },
  {
   "cell_type": "markdown",
   "id": "605a8df7",
   "metadata": {},
   "source": [
    "### 6. What is the other name of Vedic Maths?"
   ]
  },
  {
   "cell_type": "markdown",
   "id": "62844dcf",
   "metadata": {},
   "source": [
    "Sulabh sutras\n"
   ]
  },
  {
   "cell_type": "markdown",
   "id": "193af0f6",
   "metadata": {},
   "source": []
  },
  {
   "cell_type": "markdown",
   "id": "a34df5fb",
   "metadata": {},
   "source": []
  },
  {
   "cell_type": "markdown",
   "id": "652596b9",
   "metadata": {},
   "source": []
  },
  {
   "cell_type": "markdown",
   "id": "165f0b85",
   "metadata": {},
   "source": []
  },
  {
   "cell_type": "markdown",
   "id": "7b869f5f",
   "metadata": {},
   "source": []
  },
  {
   "cell_type": "markdown",
   "id": "d61b4847",
   "metadata": {},
   "source": []
  }
 ],
 "metadata": {
  "kernelspec": {
   "display_name": "Python 3 (ipykernel)",
   "language": "python",
   "name": "python3"
  },
  "language_info": {
   "codemirror_mode": {
    "name": "ipython",
    "version": 3
   },
   "file_extension": ".py",
   "mimetype": "text/x-python",
   "name": "python",
   "nbconvert_exporter": "python",
   "pygments_lexer": "ipython3",
   "version": "3.9.7"
  }
 },
 "nbformat": 4,
 "nbformat_minor": 5
}
