{
 "cells": [
  {
   "cell_type": "markdown",
   "id": "59a37f44",
   "metadata": {},
   "source": [
    "### Addition using Rounding off ( VEDIC METHOD)"
   ]
  },
  {
   "cell_type": "markdown",
   "id": "6899425b",
   "metadata": {},
   "source": [
    "#### Q1. 1+2+3+4+5+6+7+9+8+7+6+5 = "
   ]
  },
  {
   "cell_type": "markdown",
   "id": "9f9a51d6",
   "metadata": {},
   "source": [
    "1 + 9 + 2 + 8 + 3 + 7 + 4 + 6 + 5 + 5 + 6 + 7 "
   ]
  },
  {
   "cell_type": "markdown",
   "id": "caf32b1c",
   "metadata": {},
   "source": [
    "10 + 10 + 10 + 10 + 10 + 6 + 7"
   ]
  },
  {
   "cell_type": "markdown",
   "id": "7f08fbb9",
   "metadata": {},
   "source": [
    "50 + 10 + 3"
   ]
  },
  {
   "cell_type": "markdown",
   "id": "2cbde2d8",
   "metadata": {},
   "source": [
    "63"
   ]
  },
  {
   "cell_type": "markdown",
   "id": "7ff51bcc",
   "metadata": {},
   "source": [
    "#### Ans = 63"
   ]
  },
  {
   "cell_type": "markdown",
   "id": "73af7bf5",
   "metadata": {},
   "source": [
    "### Q2. 12+14+16+18+20 ="
   ]
  },
  {
   "cell_type": "markdown",
   "id": "66cb6ab7",
   "metadata": {},
   "source": [
    "12 + 18 + 16 + 14 + 20"
   ]
  },
  {
   "cell_type": "markdown",
   "id": "ab501e79",
   "metadata": {},
   "source": [
    "30 + 30 + 20\n"
   ]
  },
  {
   "cell_type": "markdown",
   "id": "d2a3c6e9",
   "metadata": {},
   "source": [
    "80"
   ]
  },
  {
   "cell_type": "markdown",
   "id": "ad3d8e1e",
   "metadata": {},
   "source": [
    "#### Ans = 80"
   ]
  },
  {
   "cell_type": "markdown",
   "id": "7601b600",
   "metadata": {},
   "source": [
    "### Q3. 19+27+38+33+12+11="
   ]
  },
  {
   "cell_type": "markdown",
   "id": "4ff32856",
   "metadata": {},
   "source": [
    "19 + 11 + 27 + 33 + 38 + 12"
   ]
  },
  {
   "cell_type": "markdown",
   "id": "3df5e3ea",
   "metadata": {},
   "source": [
    "30 + 60 + 50"
   ]
  },
  {
   "cell_type": "markdown",
   "id": "60edb347",
   "metadata": {},
   "source": [
    "140 "
   ]
  },
  {
   "cell_type": "markdown",
   "id": "d131790c",
   "metadata": {},
   "source": [
    "#### Ans = 140"
   ]
  },
  {
   "cell_type": "markdown",
   "id": "34301553",
   "metadata": {},
   "source": [
    "### Q4. 11+22+33+44+99+88+77+66="
   ]
  },
  {
   "cell_type": "markdown",
   "id": "e899ab1e",
   "metadata": {},
   "source": [
    "11 + 99 + 22 + 88 + 33 + 77 + 44 + 66"
   ]
  },
  {
   "cell_type": "markdown",
   "id": "b2420a53",
   "metadata": {},
   "source": [
    "110 + 110 + 110 + 110"
   ]
  },
  {
   "cell_type": "markdown",
   "id": "56528a3b",
   "metadata": {},
   "source": [
    "440"
   ]
  },
  {
   "cell_type": "markdown",
   "id": "d14849d3",
   "metadata": {},
   "source": [
    "#### Ans = 440"
   ]
  },
  {
   "cell_type": "markdown",
   "id": "8dd50c6a",
   "metadata": {},
   "source": []
  },
  {
   "cell_type": "markdown",
   "id": "9a995599",
   "metadata": {},
   "source": [
    "### Addition of Large Numbers Using Vedic Technique"
   ]
  },
  {
   "cell_type": "markdown",
   "id": "f314f699",
   "metadata": {},
   "source": [
    "### Q1. 3456+5674+8976+5642 ="
   ]
  },
  {
   "cell_type": "markdown",
   "id": "39322044",
   "metadata": {},
   "source": [
    "3000 + 5000 + 8000 + 5000 = 21000"
   ]
  },
  {
   "cell_type": "markdown",
   "id": "f618d7d9",
   "metadata": {},
   "source": [
    "400 + 600 + 900 + 600 = 2500"
   ]
  },
  {
   "cell_type": "markdown",
   "id": "1ae167fc",
   "metadata": {},
   "source": [
    "50 + 70 + 70 + 40 = 230"
   ]
  },
  {
   "cell_type": "markdown",
   "id": "9e80b785",
   "metadata": {},
   "source": [
    "6 + 4 + 6 + 2 = 18 "
   ]
  },
  {
   "cell_type": "markdown",
   "id": "4ec1e2f1",
   "metadata": {},
   "source": [
    "21000 + 2500 + 230 + 18 =  23748"
   ]
  },
  {
   "cell_type": "markdown",
   "id": "5788f02c",
   "metadata": {},
   "source": [
    "#### Ans = 23748"
   ]
  },
  {
   "cell_type": "markdown",
   "id": "8a37d352",
   "metadata": {},
   "source": [
    "### Q2. 890+4568+55489+666="
   ]
  },
  {
   "cell_type": "markdown",
   "id": "60a12e65",
   "metadata": {},
   "source": [
    "55489 + 04568 + 00890 + 00666 ="
   ]
  },
  {
   "cell_type": "markdown",
   "id": "3f0d771c",
   "metadata": {},
   "source": [
    "50000 + 00000 +00000 +00000 = 50000"
   ]
  },
  {
   "cell_type": "markdown",
   "id": "82c724b0",
   "metadata": {},
   "source": [
    "5000 + 4000 + 0000 + 0000 = 9000"
   ]
  },
  {
   "cell_type": "markdown",
   "id": "8ca1ed3e",
   "metadata": {},
   "source": [
    "400 + 500 + 800 + 600 = 2300"
   ]
  },
  {
   "cell_type": "markdown",
   "id": "017222fa",
   "metadata": {},
   "source": [
    "80 + 60 + 90 + 60 = 290"
   ]
  },
  {
   "cell_type": "markdown",
   "id": "25119aa3",
   "metadata": {},
   "source": [
    "9 + 8 + 0 + 6 = 23"
   ]
  },
  {
   "cell_type": "markdown",
   "id": "e55bb6c5",
   "metadata": {},
   "source": [
    "50000 + 9000 + 2300 + 290 + 24 = 59000 + 2590 + 23"
   ]
  },
  {
   "cell_type": "markdown",
   "id": "72093297",
   "metadata": {},
   "source": [
    "61590 + 24 = 61613"
   ]
  },
  {
   "cell_type": "markdown",
   "id": "140e282a",
   "metadata": {},
   "source": [
    "#### Ans : 61613"
   ]
  },
  {
   "cell_type": "markdown",
   "id": "069494ea",
   "metadata": {},
   "source": []
  },
  {
   "cell_type": "markdown",
   "id": "1b7115f6",
   "metadata": {},
   "source": [
    "### Q3. 974356+ 124578+ 978675+122446="
   ]
  },
  {
   "cell_type": "markdown",
   "id": "423c47e2",
   "metadata": {},
   "source": [
    "9 + 1 + 9 + 1 = 2000000"
   ]
  },
  {
   "cell_type": "markdown",
   "id": "54b874e1",
   "metadata": {},
   "source": [
    "7 + 2 + 7 + 2 = 180000"
   ]
  },
  {
   "cell_type": "markdown",
   "id": "74f26dcd",
   "metadata": {},
   "source": [
    "4 + 4 + 8 + 2 = 18000"
   ]
  },
  {
   "cell_type": "markdown",
   "id": "1ffbe463",
   "metadata": {},
   "source": [
    "3 + 5 + 6 + 4 = 1800"
   ]
  },
  {
   "cell_type": "markdown",
   "id": "7a8b08ad",
   "metadata": {},
   "source": [
    "5 + 7 + 7 + 4 = 9 + 14 = 230"
   ]
  },
  {
   "cell_type": "markdown",
   "id": "b515f209",
   "metadata": {},
   "source": [
    "6 + 8 + 5 + 6 = 25"
   ]
  },
  {
   "cell_type": "markdown",
   "id": "c63824ea",
   "metadata": {},
   "source": [
    "2000000 + 180000 + 18000 + 1800 + 230 + 25"
   ]
  },
  {
   "cell_type": "markdown",
   "id": "06859dae",
   "metadata": {},
   "source": [
    "2180000 + 19800 + 255"
   ]
  },
  {
   "cell_type": "markdown",
   "id": "ccf33761",
   "metadata": {},
   "source": [
    "2199800 + 255"
   ]
  },
  {
   "cell_type": "markdown",
   "id": "2ec755b1",
   "metadata": {},
   "source": [
    "2200055"
   ]
  },
  {
   "cell_type": "markdown",
   "id": "94f203d1",
   "metadata": {},
   "source": [
    "#### Ans = 220005"
   ]
  },
  {
   "cell_type": "markdown",
   "id": "68257963",
   "metadata": {},
   "source": []
  },
  {
   "cell_type": "markdown",
   "id": "fc39cd36",
   "metadata": {},
   "source": [
    "### Q4. 2345+3456+4567+5678="
   ]
  },
  {
   "cell_type": "markdown",
   "id": "24968e9c",
   "metadata": {},
   "source": [
    "2 + 3 + 4 + 5 = 14000"
   ]
  },
  {
   "cell_type": "markdown",
   "id": "29a5c740",
   "metadata": {},
   "source": [
    "300 + 400 + 500 + 600 = 1800 "
   ]
  },
  {
   "cell_type": "markdown",
   "id": "2c80bfab",
   "metadata": {},
   "source": [
    "40 + 50 + 60 + 70 = 220"
   ]
  },
  {
   "cell_type": "markdown",
   "id": "139cc96f",
   "metadata": {},
   "source": [
    "5 + 6 + 7 + 8 = 26"
   ]
  },
  {
   "cell_type": "markdown",
   "id": "4dfa045d",
   "metadata": {},
   "source": [
    "15800 + 246"
   ]
  },
  {
   "cell_type": "markdown",
   "id": "87980f02",
   "metadata": {},
   "source": [
    "16046"
   ]
  },
  {
   "cell_type": "markdown",
   "id": "f8db22ef",
   "metadata": {},
   "source": [
    "#### Ans = 16046"
   ]
  },
  {
   "cell_type": "markdown",
   "id": "09cb62b3",
   "metadata": {},
   "source": [
    "### Q5. 708+ 35+ 420+370="
   ]
  },
  {
   "cell_type": "markdown",
   "id": "54b25326",
   "metadata": {},
   "source": [
    "700 + 000 + 400 + 300 = 1400 "
   ]
  },
  {
   "cell_type": "markdown",
   "id": "2659a245",
   "metadata": {},
   "source": [
    "00 + 30 + 20 + 70 = 120"
   ]
  },
  {
   "cell_type": "markdown",
   "id": "cfe53543",
   "metadata": {},
   "source": [
    "8 + 5 + 0 + 0 = 13"
   ]
  },
  {
   "cell_type": "markdown",
   "id": "0f5c1474",
   "metadata": {},
   "source": [
    "1533"
   ]
  },
  {
   "cell_type": "markdown",
   "id": "5b8a52b9",
   "metadata": {},
   "source": [
    "####  Ans = 1533"
   ]
  },
  {
   "cell_type": "markdown",
   "id": "91598fda",
   "metadata": {},
   "source": []
  },
  {
   "cell_type": "markdown",
   "id": "bdf39358",
   "metadata": {},
   "source": []
  },
  {
   "cell_type": "markdown",
   "id": "911845ba",
   "metadata": {},
   "source": []
  },
  {
   "cell_type": "markdown",
   "id": "56a8029d",
   "metadata": {},
   "source": []
  }
 ],
 "metadata": {
  "kernelspec": {
   "display_name": "Python 3 (ipykernel)",
   "language": "python",
   "name": "python3"
  },
  "language_info": {
   "codemirror_mode": {
    "name": "ipython",
    "version": 3
   },
   "file_extension": ".py",
   "mimetype": "text/x-python",
   "name": "python",
   "nbconvert_exporter": "python",
   "pygments_lexer": "ipython3",
   "version": "3.9.7"
  }
 },
 "nbformat": 4,
 "nbformat_minor": 5
}
