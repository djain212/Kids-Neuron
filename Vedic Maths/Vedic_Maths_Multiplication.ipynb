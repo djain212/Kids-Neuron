{
 "cells": [
  {
   "cell_type": "markdown",
   "id": "bb135524",
   "metadata": {},
   "source": [
    "### Q1. 85 X 85"
   ]
  },
  {
   "cell_type": "markdown",
   "id": "551ead29",
   "metadata": {},
   "source": [
    "8 * (8 + 1) /5 * 5"
   ]
  },
  {
   "cell_type": "markdown",
   "id": "3bb0716e",
   "metadata": {},
   "source": [
    "8 * 9 / 5 * 5"
   ]
  },
  {
   "cell_type": "markdown",
   "id": "17960f1f",
   "metadata": {},
   "source": [
    "72/25"
   ]
  },
  {
   "cell_type": "markdown",
   "id": "45e68f66",
   "metadata": {},
   "source": [
    "#### Ans 7225"
   ]
  },
  {
   "cell_type": "markdown",
   "id": "3f91fca9",
   "metadata": {},
   "source": [
    "### Q2. 540 X 560"
   ]
  },
  {
   "cell_type": "markdown",
   "id": "e28f657d",
   "metadata": {},
   "source": [
    "5 * 6/ 4 * 6"
   ]
  },
  {
   "cell_type": "markdown",
   "id": "7753c816",
   "metadata": {},
   "source": [
    "#### Ans.302400"
   ]
  },
  {
   "cell_type": "markdown",
   "id": "b20f91b1",
   "metadata": {},
   "source": []
  },
  {
   "cell_type": "markdown",
   "id": "584cfd33",
   "metadata": {},
   "source": [
    "### Q3. 57 X 53"
   ]
  },
  {
   "cell_type": "markdown",
   "id": "a2578ddb",
   "metadata": {},
   "source": [
    "5 * 6 /7 * 3"
   ]
  },
  {
   "cell_type": "markdown",
   "id": "435bb8a5",
   "metadata": {},
   "source": [
    "30/21"
   ]
  },
  {
   "cell_type": "markdown",
   "id": "fac85a15",
   "metadata": {},
   "source": [
    "#### Ans 3021"
   ]
  },
  {
   "cell_type": "markdown",
   "id": "d12d4a37",
   "metadata": {},
   "source": []
  },
  {
   "cell_type": "markdown",
   "id": "ee77c4ea",
   "metadata": {},
   "source": [
    "### Q4. 64 X 66 "
   ]
  },
  {
   "cell_type": "markdown",
   "id": "9b3065e8",
   "metadata": {},
   "source": [
    "6 * 7 / 6 * 4"
   ]
  },
  {
   "cell_type": "markdown",
   "id": "1dcb6773",
   "metadata": {},
   "source": [
    "42/24"
   ]
  },
  {
   "cell_type": "markdown",
   "id": "84fe0131",
   "metadata": {},
   "source": [
    "#### Ans 4224"
   ]
  },
  {
   "cell_type": "markdown",
   "id": "2f2b6954",
   "metadata": {},
   "source": []
  },
  {
   "cell_type": "markdown",
   "id": "2570c5f7",
   "metadata": {},
   "source": [
    "### Q5. 39 X 79 "
   ]
  },
  {
   "cell_type": "markdown",
   "id": "f5f2bc60",
   "metadata": {},
   "source": [
    "(3 * 7) + 9 /9 * 9"
   ]
  },
  {
   "cell_type": "markdown",
   "id": "725bb5cc",
   "metadata": {},
   "source": [
    "30/81"
   ]
  },
  {
   "cell_type": "markdown",
   "id": "7617deb5",
   "metadata": {},
   "source": [
    "#### Ans 3081"
   ]
  },
  {
   "cell_type": "markdown",
   "id": "037f0f23",
   "metadata": {},
   "source": [
    "### Q6. 58 X 58"
   ]
  },
  {
   "cell_type": "markdown",
   "id": "67b52c89",
   "metadata": {},
   "source": [
    "5 * 5 + 8/8 * 8"
   ]
  },
  {
   "cell_type": "markdown",
   "id": "9a382f05",
   "metadata": {},
   "source": [
    "####  Ans. 3364"
   ]
  },
  {
   "cell_type": "code",
   "execution_count": null,
   "id": "b1d57bf0",
   "metadata": {},
   "outputs": [],
   "source": []
  }
 ],
 "metadata": {
  "kernelspec": {
   "display_name": "Python 3 (ipykernel)",
   "language": "python",
   "name": "python3"
  },
  "language_info": {
   "codemirror_mode": {
    "name": "ipython",
    "version": 3
   },
   "file_extension": ".py",
   "mimetype": "text/x-python",
   "name": "python",
   "nbconvert_exporter": "python",
   "pygments_lexer": "ipython3",
   "version": "3.9.7"
  }
 },
 "nbformat": 4,
 "nbformat_minor": 5
}
